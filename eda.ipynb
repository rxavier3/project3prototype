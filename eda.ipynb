{
 "cells": [
  {
   "cell_type": "code",
   "execution_count": 3,
   "metadata": {},
   "outputs": [],
   "source": [
    "import pandas as pd\n",
    "import plotly.express as px\n",
    "import plotly.graph_objects as go\n",
    "df_cases = pd.read_csv(\"https://api.vitaldb.net/cases\")\n",
    "df_cases.columns\n",
    "df = df_cases[['intraop_uo', 'intraop_rbc', 'intraop_ffp', 'intraop_crystalloid',\n",
    "               'intraop_colloid', 'intraop_ppf', 'intraop_mdz', 'intraop_ftn',\n",
    "               'intraop_rocu', 'intraop_vecu', 'intraop_eph', 'intraop_phe',\n",
    "               'intraop_epi', 'intraop_ca', 'icu_days', 'approach', 'ane_type',\n",
    "               'casestart', 'caseend']]\n",
    "\n",
    "df.to_json('health_data', orient = 'records')\n"
   ]
  }
 ],
 "metadata": {
  "kernelspec": {
   "display_name": "dsc80",
   "language": "python",
   "name": "python3"
  },
  "language_info": {
   "codemirror_mode": {
    "name": "ipython",
    "version": 3
   },
   "file_extension": ".py",
   "mimetype": "text/x-python",
   "name": "python",
   "nbconvert_exporter": "python",
   "pygments_lexer": "ipython3",
   "version": "3.12.6"
  }
 },
 "nbformat": 4,
 "nbformat_minor": 2
}
